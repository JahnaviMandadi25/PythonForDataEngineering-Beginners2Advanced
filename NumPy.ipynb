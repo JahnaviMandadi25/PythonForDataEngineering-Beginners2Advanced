{
  "nbformat": 4,
  "nbformat_minor": 0,
  "metadata": {
    "colab": {
      "provenance": [],
      "authorship_tag": "ABX9TyOmohd2qDGSnxG/mG2sDs1k",
      "include_colab_link": true
    },
    "kernelspec": {
      "name": "python3",
      "display_name": "Python 3"
    },
    "language_info": {
      "name": "python"
    }
  },
  "cells": [
    {
      "cell_type": "markdown",
      "metadata": {
        "id": "view-in-github",
        "colab_type": "text"
      },
      "source": [
        "<a href=\"https://colab.research.google.com/github/JahnaviMandadi25/PythonForDataEngineering-Beginners2Advanced/blob/main/NumPy.ipynb\" target=\"_parent\"><img src=\"https://colab.research.google.com/assets/colab-badge.svg\" alt=\"Open In Colab\"/></a>"
      ]
    },
    {
      "cell_type": "markdown",
      "source": [
        "1. Array creation and attributes"
      ],
      "metadata": {
        "id": "m9IxuNT9WmwR"
      }
    },
    {
      "cell_type": "code",
      "source": [
        "import numpy as np  # Importing the NumPy library\n",
        "\n",
        "nums = [1,2,3,4,5]  # Creating a list of numbers\n",
        "\n",
        "arrayy1 = np.array(nums)  # Converting the list into a NumPy array\n",
        "print(arrayy1)  # Printing the NumPy array\n"
      ],
      "metadata": {
        "colab": {
          "base_uri": "https://localhost:8080/"
        },
        "id": "enmAe8InWtUj",
        "outputId": "ed65584d-8196-48c3-8417-ab6dc77b7f4a"
      },
      "execution_count": 1,
      "outputs": [
        {
          "output_type": "stream",
          "name": "stdout",
          "text": [
            "[1 2 3 4 5]\n"
          ]
        }
      ]
    },
    {
      "cell_type": "code",
      "source": [
        "zero_array = np.zeros(5)  # Creating a NumPy array of zeros with 5 elements\n",
        "print(zero_array)  # Printing the array\n"
      ],
      "metadata": {
        "colab": {
          "base_uri": "https://localhost:8080/"
        },
        "id": "9uER3Q21XOIA",
        "outputId": "0d581f7d-23ff-4aa9-bf77-205717c2f215"
      },
      "execution_count": 2,
      "outputs": [
        {
          "output_type": "stream",
          "name": "stdout",
          "text": [
            "[0. 0. 0. 0. 0.]\n"
          ]
        }
      ]
    },
    {
      "cell_type": "code",
      "source": [
        "one_array = np.ones(3)  # Creating a NumPy array of ones with 3 elements\n",
        "print(one_array)  # Printing the array\n"
      ],
      "metadata": {
        "colab": {
          "base_uri": "https://localhost:8080/"
        },
        "id": "lccjVpQMXSCj",
        "outputId": "e0e51c51-eb7a-4e72-e486-9fdb0bcc1a5b"
      },
      "execution_count": 3,
      "outputs": [
        {
          "output_type": "stream",
          "name": "stdout",
          "text": [
            "[1. 1. 1.]\n"
          ]
        }
      ]
    },
    {
      "cell_type": "code",
      "source": [
        "range_array = np.arange(1, 10, 2)  # Creating a NumPy array with values from 1 to 9 with a step of 2\n",
        "print(range_array)  # Printing the array\n"
      ],
      "metadata": {
        "colab": {
          "base_uri": "https://localhost:8080/"
        },
        "id": "xbCgLnU-Xanu",
        "outputId": "bc7e8504-ea53-457d-9e57-2d3750c0fb60"
      },
      "execution_count": 4,
      "outputs": [
        {
          "output_type": "stream",
          "name": "stdout",
          "text": [
            "[1 3 5 7 9]\n"
          ]
        }
      ]
    },
    {
      "cell_type": "code",
      "source": [
        "random_array = np.random.randint(1, 100, 5)  # Creating a NumPy array with 5 random integers between 1 and 99\n",
        "print(random_array)  # Printing the array\n"
      ],
      "metadata": {
        "colab": {
          "base_uri": "https://localhost:8080/"
        },
        "id": "I4Z87FnVXiZ5",
        "outputId": "b8b40147-8ad9-40e5-b711-b69356040e80"
      },
      "execution_count": 6,
      "outputs": [
        {
          "output_type": "stream",
          "name": "stdout",
          "text": [
            "[47 10 77 17 79]\n"
          ]
        }
      ]
    },
    {
      "cell_type": "code",
      "source": [
        "random_matrix = np.random.rand(3, 3)  # Creating a 3x3 matrix with random values between 0 and 1\n",
        "print(random_matrix)  # Printing the matrix\n"
      ],
      "metadata": {
        "colab": {
          "base_uri": "https://localhost:8080/"
        },
        "id": "2lzOFJbXXn_u",
        "outputId": "0b376a35-3654-4906-ba66-c14b1c83ae4f"
      },
      "execution_count": 7,
      "outputs": [
        {
          "output_type": "stream",
          "name": "stdout",
          "text": [
            "[[0.01319309 0.74055904 0.72802547]\n",
            " [0.99704378 0.85307033 0.55071146]\n",
            " [0.8791649  0.72868317 0.14563978]]\n"
          ]
        }
      ]
    },
    {
      "cell_type": "code",
      "source": [
        "shape = range_array.shape  # Getting the shape of the array\n",
        "print(shape)  # Printing the shape (tuple representing dimensions)"
      ],
      "metadata": {
        "colab": {
          "base_uri": "https://localhost:8080/"
        },
        "id": "32dTTRorX1Nx",
        "outputId": "b9c21050-d6f1-4d28-f7e1-6b3fa1b47a00"
      },
      "execution_count": 8,
      "outputs": [
        {
          "output_type": "stream",
          "name": "stdout",
          "text": [
            "(5,)\n"
          ]
        }
      ]
    },
    {
      "cell_type": "code",
      "source": [
        "size = range_array.size  # Getting the total number of elements in the array\n",
        "print(size)  # Printing the size"
      ],
      "metadata": {
        "colab": {
          "base_uri": "https://localhost:8080/"
        },
        "id": "ZK5NzUY-X5X6",
        "outputId": "1dc7712e-192e-479e-9a15-c0f430ba2daf"
      },
      "execution_count": 9,
      "outputs": [
        {
          "output_type": "stream",
          "name": "stdout",
          "text": [
            "5\n"
          ]
        }
      ]
    },
    {
      "cell_type": "code",
      "source": [
        "print(range_array.ndim)  # Printing the number of dimensions of the array"
      ],
      "metadata": {
        "colab": {
          "base_uri": "https://localhost:8080/"
        },
        "id": "c0Mc6Z1vX9hS",
        "outputId": "8c362429-27fb-45ac-9e3f-eb37f3dbe6be"
      },
      "execution_count": 10,
      "outputs": [
        {
          "output_type": "stream",
          "name": "stdout",
          "text": [
            "1\n"
          ]
        }
      ]
    },
    {
      "cell_type": "markdown",
      "source": [
        "2. Array Operations"
      ],
      "metadata": {
        "id": "xrnFyiU8Yli9"
      }
    },
    {
      "cell_type": "code",
      "source": [
        "import numpy as np  # Importing the NumPy library\n",
        "\n",
        "array1 = np.array([1, 2, 3])  # Creating an array\n",
        "array2 = np.array([4, 5, 6])  # Creating another array\n",
        "\n",
        "result = array1 + array2  # Adding the arrays element-wise\n",
        "print(result)"
      ],
      "metadata": {
        "colab": {
          "base_uri": "https://localhost:8080/"
        },
        "id": "j9s-fkQBY5Cm",
        "outputId": "5ec1baeb-ee9a-43e9-f642-9519a7cf3498"
      },
      "execution_count": 11,
      "outputs": [
        {
          "output_type": "stream",
          "name": "stdout",
          "text": [
            "[5 7 9]\n"
          ]
        }
      ]
    },
    {
      "cell_type": "code",
      "source": [
        "sub = array1 - array2  # Subtracting the arrays element-wise\n",
        "print(sub)"
      ],
      "metadata": {
        "colab": {
          "base_uri": "https://localhost:8080/"
        },
        "id": "yhxao31WZEkX",
        "outputId": "2d2d2569-eb45-424f-b679-0222317342aa"
      },
      "execution_count": 12,
      "outputs": [
        {
          "output_type": "stream",
          "name": "stdout",
          "text": [
            "[-3 -3 -3]\n"
          ]
        }
      ]
    },
    {
      "cell_type": "code",
      "source": [
        "mul = array1 * array2  # Multiplying the arrays element-wise\n",
        "print(mul)"
      ],
      "metadata": {
        "colab": {
          "base_uri": "https://localhost:8080/"
        },
        "id": "9IAcTD4KZLPt",
        "outputId": "95248871-73e7-496d-dc41-b227c3136fda"
      },
      "execution_count": 13,
      "outputs": [
        {
          "output_type": "stream",
          "name": "stdout",
          "text": [
            "[ 4 10 18]\n"
          ]
        }
      ]
    },
    {
      "cell_type": "code",
      "source": [
        "div = array1 / array2  # Dividing the arrays element-wise\n",
        "print(div)"
      ],
      "metadata": {
        "colab": {
          "base_uri": "https://localhost:8080/"
        },
        "id": "KmsBgBKUZP67",
        "outputId": "637e61ec-e3b1-4941-be6c-3e9563abc9f7"
      },
      "execution_count": 14,
      "outputs": [
        {
          "output_type": "stream",
          "name": "stdout",
          "text": [
            "[0.25 0.4  0.5 ]\n"
          ]
        }
      ]
    },
    {
      "cell_type": "code",
      "source": [
        "mean = np.mean(array1)  # Calculating the mean of the array\n",
        "print(mean)"
      ],
      "metadata": {
        "colab": {
          "base_uri": "https://localhost:8080/"
        },
        "id": "aNcGPIAQZSHC",
        "outputId": "c20cbe53-cc31-490c-e342-a9157dc0c347"
      },
      "execution_count": 15,
      "outputs": [
        {
          "output_type": "stream",
          "name": "stdout",
          "text": [
            "2.0\n"
          ]
        }
      ]
    },
    {
      "cell_type": "code",
      "source": [
        "sum = np.sum(array1)  # Calculating the sum of the array\n",
        "print(sum)"
      ],
      "metadata": {
        "colab": {
          "base_uri": "https://localhost:8080/"
        },
        "id": "m3MTbpvGZYJv",
        "outputId": "6e18ea54-dae8-4f5e-9dff-3be2821a3dc4"
      },
      "execution_count": 16,
      "outputs": [
        {
          "output_type": "stream",
          "name": "stdout",
          "text": [
            "6\n"
          ]
        }
      ]
    },
    {
      "cell_type": "code",
      "source": [
        "max = np.max(array1)  # Finding the maximum value in the array\n",
        "print(max)"
      ],
      "metadata": {
        "colab": {
          "base_uri": "https://localhost:8080/"
        },
        "id": "AFUOl_PXZpsa",
        "outputId": "824274c7-8e77-4142-cfae-0ae1928d2481"
      },
      "execution_count": 17,
      "outputs": [
        {
          "output_type": "stream",
          "name": "stdout",
          "text": [
            "3\n"
          ]
        }
      ]
    },
    {
      "cell_type": "code",
      "source": [
        "min = np.min(array1)  # Finding the minimum value in the array\n",
        "print(min)"
      ],
      "metadata": {
        "colab": {
          "base_uri": "https://localhost:8080/"
        },
        "id": "gut-n-sVZxCt",
        "outputId": "bb331d22-f8d7-4ac1-d01f-b7de3f9a1a5b"
      },
      "execution_count": 18,
      "outputs": [
        {
          "output_type": "stream",
          "name": "stdout",
          "text": [
            "1\n"
          ]
        }
      ]
    },
    {
      "cell_type": "code",
      "source": [
        "greater_than = array1 > 2 #Checking if every value in the array if greater than 2 or not\n",
        "\n",
        "print(greater_than)"
      ],
      "metadata": {
        "colab": {
          "base_uri": "https://localhost:8080/"
        },
        "id": "RwokW95WaC7g",
        "outputId": "acd8a2d6-a213-4d80-a8a7-a3f03c608135"
      },
      "execution_count": 19,
      "outputs": [
        {
          "output_type": "stream",
          "name": "stdout",
          "text": [
            "[False False  True]\n"
          ]
        }
      ]
    },
    {
      "cell_type": "code",
      "source": [
        "result = array1 * 2  # Multiplying every value in the array by 2\n",
        "print(result)"
      ],
      "metadata": {
        "colab": {
          "base_uri": "https://localhost:8080/"
        },
        "id": "R2J72xEiaPgM",
        "outputId": "39c899b5-9cb0-404d-c14a-be664982ccd5"
      },
      "execution_count": 20,
      "outputs": [
        {
          "output_type": "stream",
          "name": "stdout",
          "text": [
            "[2 4 6]\n"
          ]
        }
      ]
    },
    {
      "cell_type": "markdown",
      "source": [
        "3. Indexing and Slicing\n"
      ],
      "metadata": {
        "id": "1wqRiyUXadw8"
      }
    },
    {
      "cell_type": "code",
      "source": [
        "import numpy as np\n",
        "\n",
        "array1 = np.array([10, 20, 30, 40, 50])  # Creating a NumPy array with given elements\n",
        "\n",
        "second_element = array1[1]  # Accessing the second element (index 1) of the array\n",
        "\n",
        "print(second_element)  # Printing the second element\n"
      ],
      "metadata": {
        "colab": {
          "base_uri": "https://localhost:8080/"
        },
        "id": "cdlYBixCagQl",
        "outputId": "5e05cd7b-889e-41d3-87b6-530d96a1f07a"
      },
      "execution_count": 21,
      "outputs": [
        {
          "output_type": "stream",
          "name": "stdout",
          "text": [
            "20\n"
          ]
        }
      ]
    },
    {
      "cell_type": "code",
      "source": [
        "print(array1[-2])  # Printing the second-to-last element of the array (40)\n"
      ],
      "metadata": {
        "colab": {
          "base_uri": "https://localhost:8080/"
        },
        "id": "QErdaEClcLA5",
        "outputId": "019ee47c-9246-41f3-ffe2-66128211cc01"
      },
      "execution_count": 22,
      "outputs": [
        {
          "output_type": "stream",
          "name": "stdout",
          "text": [
            "40\n"
          ]
        }
      ]
    },
    {
      "cell_type": "code",
      "source": [
        "sliced_arr = array1[1:4]  # Slicing the array from index 1 to 3 (excluding index 4)\n",
        "print(sliced_arr)  # Printing the sliced array\n"
      ],
      "metadata": {
        "colab": {
          "base_uri": "https://localhost:8080/"
        },
        "id": "QHJbdPi8cRgg",
        "outputId": "874af601-b357-46e7-fe4c-17b22312a144"
      },
      "execution_count": 23,
      "outputs": [
        {
          "output_type": "stream",
          "name": "stdout",
          "text": [
            "[20 30 40]\n"
          ]
        }
      ]
    },
    {
      "cell_type": "code",
      "source": [
        "step_arry = array1[::2]  # Slicing the array with a step of 2 (every second element)\n",
        "print(step_arry)  # Printing the array with the step\n"
      ],
      "metadata": {
        "colab": {
          "base_uri": "https://localhost:8080/"
        },
        "id": "1OaF2cgVcYQS",
        "outputId": "69cb421e-68bf-47e0-e912-e74d1c6b16fc"
      },
      "execution_count": 24,
      "outputs": [
        {
          "output_type": "stream",
          "name": "stdout",
          "text": [
            "[10 30 50]\n"
          ]
        }
      ]
    },
    {
      "cell_type": "code",
      "source": [
        "matrix = np.array([[1, 2, 3],  # Creating a 3x3 matrix\n",
        "                   [4, 5, 6],\n",
        "                   [7, 8, 9]])\n",
        "\n",
        "element = matrix[1, 1]  # Accessing the element at row 1, column 1 (which is 5)\n",
        "print(element)  # Printing the accessed element\n"
      ],
      "metadata": {
        "colab": {
          "base_uri": "https://localhost:8080/"
        },
        "id": "-Rv0GaxEchKl",
        "outputId": "d9dfc7dd-8a65-4bc5-fce5-5727f0e3fc2e"
      },
      "execution_count": 25,
      "outputs": [
        {
          "output_type": "stream",
          "name": "stdout",
          "text": [
            "5\n"
          ]
        }
      ]
    },
    {
      "cell_type": "code",
      "source": [
        "second_row = matrix[1, :]  # Accessing all elements in the second row of the matrix\n",
        "print(second_row)  # Printing the second row\n"
      ],
      "metadata": {
        "colab": {
          "base_uri": "https://localhost:8080/"
        },
        "id": "wvKAFAAacnYg",
        "outputId": "ce852e7d-ef1a-455d-a716-a6207185f63b"
      },
      "execution_count": 26,
      "outputs": [
        {
          "output_type": "stream",
          "name": "stdout",
          "text": [
            "[4 5 6]\n"
          ]
        }
      ]
    },
    {
      "cell_type": "code",
      "source": [
        "second_col = matrix[:, 1]  # Accessing all elements in the second column of the matrix\n",
        "print(second_col)  # Printing the second column\n"
      ],
      "metadata": {
        "colab": {
          "base_uri": "https://localhost:8080/"
        },
        "id": "lNUtvf2mcqy-",
        "outputId": "15d881a4-c6f9-40da-decd-931302c8269d"
      },
      "execution_count": 27,
      "outputs": [
        {
          "output_type": "stream",
          "name": "stdout",
          "text": [
            "[2 5 8]\n"
          ]
        }
      ]
    },
    {
      "cell_type": "code",
      "source": [
        "data = np.array([1, 2, 3, np.nan, 4, 5])  # Creating an array with a NaN value\n",
        "\n",
        "missing = np.isnan(data)  # Checking which elements are NaN (returns a boolean array)\n",
        "print(missing)  # Printing the boolean array indicating missing (NaN) values\n"
      ],
      "metadata": {
        "colab": {
          "base_uri": "https://localhost:8080/"
        },
        "id": "FoNyzTTtcx_K",
        "outputId": "c39754e5-ea71-4d33-d464-581c451a58a9"
      },
      "execution_count": 28,
      "outputs": [
        {
          "output_type": "stream",
          "name": "stdout",
          "text": [
            "[False False False  True False False]\n"
          ]
        }
      ]
    },
    {
      "cell_type": "code",
      "source": [
        "data_fill = np.nan_to_num(data, nan=100)  # Replacing NaN values in the array with 100\n",
        "print(data_fill)  # Printing the array with NaN values replaced\n"
      ],
      "metadata": {
        "colab": {
          "base_uri": "https://localhost:8080/"
        },
        "id": "tehfYH0Mc4WL",
        "outputId": "71d68079-15ff-4dce-f363-cfbd19552148"
      },
      "execution_count": 29,
      "outputs": [
        {
          "output_type": "stream",
          "name": "stdout",
          "text": [
            "[  1.   2.   3. 100.   4.   5.]\n"
          ]
        }
      ]
    },
    {
      "cell_type": "markdown",
      "source": [
        "4. Linear algebra and statistics"
      ],
      "metadata": {
        "id": "e1Ap4v1PdEPQ"
      }
    },
    {
      "cell_type": "code",
      "source": [
        "import numpy as np  # Importing the NumPy library\n",
        "\n",
        "array1 = np.array([[1, 2], [3, 4]])  # Creating a 2x2 array\n",
        "array2 = np.array(([5, 6], [7, 8]))  # Creating another 2x2 array\n",
        "\n",
        "mul = np.dot(array1, array2)  # Performing matrix multiplication (dot product) between array1 and array2\n",
        "\n",
        "print(mul)  # Printing the result of the matrix multiplication\n"
      ],
      "metadata": {
        "colab": {
          "base_uri": "https://localhost:8080/"
        },
        "id": "hA9U8mXzdIEq",
        "outputId": "3f910015-3b5d-4518-e6f5-d799ea9d9f4b"
      },
      "execution_count": 30,
      "outputs": [
        {
          "output_type": "stream",
          "name": "stdout",
          "text": [
            "[[19 22]\n",
            " [43 50]]\n"
          ]
        }
      ]
    },
    {
      "cell_type": "code",
      "source": [
        "invr = np.linalg.inv(array1)  # Calculating the inverse of the array1 matrix\n",
        "\n",
        "print(invr)  # Printing the inverse of array1"
      ],
      "metadata": {
        "colab": {
          "base_uri": "https://localhost:8080/"
        },
        "id": "P-kNqFeddl4N",
        "outputId": "bd669b34-0dbc-4e20-b835-6e4ed190ac35"
      },
      "execution_count": 31,
      "outputs": [
        {
          "output_type": "stream",
          "name": "stdout",
          "text": [
            "[[-2.   1. ]\n",
            " [ 1.5 -0.5]]\n"
          ]
        }
      ]
    },
    {
      "cell_type": "code",
      "source": [
        "eval, evect = np.linalg.eig(array1)  # Calculating the eigenvalues and eigenvectors of the array1 matrix\n",
        "\n",
        "print(eval)  # Printing the eigenvalues\n",
        "print(evect)  # Printing the eigenvectors"
      ],
      "metadata": {
        "colab": {
          "base_uri": "https://localhost:8080/"
        },
        "id": "6peZkmkrdse3",
        "outputId": "5c5203ef-715c-4ff3-ed8c-0e676825fb64"
      },
      "execution_count": 32,
      "outputs": [
        {
          "output_type": "stream",
          "name": "stdout",
          "text": [
            "[-0.37228132  5.37228132]\n",
            "[[-0.82456484 -0.41597356]\n",
            " [ 0.56576746 -0.90937671]]\n"
          ]
        }
      ]
    },
    {
      "cell_type": "code",
      "source": [
        "data = np.array([1, 2, 3, 4, 5])  # Creating a NumPy array with data\n",
        "\n",
        "mean = np.mean(data)  # Calculating the mean (average) of the data\n",
        "median = np.median(data)  # Calculating the median of the data\n",
        "std = np.std(data)  # Calculating the standard deviation of the data\n",
        "\n",
        "print(mean)  # Printing the mean\n",
        "print(median)  # Printing the median\n",
        "print(std)  # Printing the standard deviation\n"
      ],
      "metadata": {
        "colab": {
          "base_uri": "https://localhost:8080/"
        },
        "id": "uLcOlQTid2FS",
        "outputId": "bdf7af97-75a5-4276-f3fc-951ff1885273"
      },
      "execution_count": 33,
      "outputs": [
        {
          "output_type": "stream",
          "name": "stdout",
          "text": [
            "3.0\n",
            "3.0\n",
            "1.4142135623730951\n"
          ]
        }
      ]
    },
    {
      "cell_type": "code",
      "source": [],
      "metadata": {
        "id": "tZFdTZOId7xX"
      },
      "execution_count": null,
      "outputs": []
    }
  ]
}
{
  "nbformat": 4,
  "nbformat_minor": 0,
  "metadata": {
    "colab": {
      "provenance": [],
      "authorship_tag": "ABX9TyPGkmx6LkgoJpaLBtTJSWc+",
      "include_colab_link": true
    },
    "kernelspec": {
      "name": "python3",
      "display_name": "Python 3"
    },
    "language_info": {
      "name": "python"
    }
  },
  "cells": [
    {
      "cell_type": "markdown",
      "metadata": {
        "id": "view-in-github",
        "colab_type": "text"
      },
      "source": [
        "<a href=\"https://colab.research.google.com/github/JahnaviMandadi25/PythonForDataEngineering-Beginners2Advanced/blob/main/PythonBasics%26Collections.ipynb\" target=\"_parent\"><img src=\"https://colab.research.google.com/assets/colab-badge.svg\" alt=\"Open In Colab\"/></a>"
      ]
    },
    {
      "cell_type": "markdown",
      "source": [
        "**Python Basic Concepts**\n"
      ],
      "metadata": {
        "id": "Uyy87DC-7CBh"
      }
    },
    {
      "cell_type": "markdown",
      "source": [
        "Data Types\n"
      ],
      "metadata": {
        "id": "PY_H1tD9Jsma"
      }
    },
    {
      "cell_type": "code",
      "execution_count": 22,
      "metadata": {
        "colab": {
          "base_uri": "https://localhost:8080/"
        },
        "id": "oBBolpXV575y",
        "outputId": "5ae177c6-fd40-4d50-cf9d-b0bc341a2b79"
      },
      "outputs": [
        {
          "output_type": "stream",
          "name": "stdout",
          "text": [
            "Just revising variables\n",
            "<class 'str'>\n",
            "234234\n",
            "<class 'int'>\n",
            "4653.3454\n",
            "<class 'float'>\n",
            "True\n",
            "<class 'bool'>\n"
          ]
        }
      ],
      "source": [
        "message = \"Just revising variables\" #Strings\n",
        "nums = 234234 #Int\n",
        "decimal = 4653.3454 #Float\n",
        "boolean = True #Boolean\n",
        "print(message)\n",
        "print(type(message))\n",
        "print(nums)\n",
        "print(type(nums))\n",
        "print(decimal)\n",
        "print(type(decimal))\n",
        "print(boolean)\n",
        "print(type(boolean))"
      ]
    },
    {
      "cell_type": "markdown",
      "source": [
        "If Condition"
      ],
      "metadata": {
        "id": "nyoNCmt5JyF7"
      }
    },
    {
      "cell_type": "code",
      "source": [
        "num = 39  # Assigning the value 39 to the variable 'num'\n",
        "\n",
        "# Checking if 'num' is greater than or equal to 40\n",
        "if num >= 40:\n",
        "  print(\"Good one!\")  # Prints this message if the condition is True\n",
        "else:\n",
        "  print(\"Better luck next time!\")  # Prints this message if the condition is False\n"
      ],
      "metadata": {
        "colab": {
          "base_uri": "https://localhost:8080/"
        },
        "id": "tcq6v6GY6MlW",
        "outputId": "2b828e15-3dc4-4106-db91-ff5218d5023e"
      },
      "execution_count": 23,
      "outputs": [
        {
          "output_type": "stream",
          "name": "stdout",
          "text": [
            "Better luck next time!\n"
          ]
        }
      ]
    },
    {
      "cell_type": "markdown",
      "source": [
        "for loop"
      ],
      "metadata": {
        "id": "eDriNvNbJ1Kz"
      }
    },
    {
      "cell_type": "code",
      "source": [
        "# Looping through a range of numbers from 0 to 4\n",
        "\n",
        "for i in range(5):  # range(5) generates numbers: 0, 1, 2, 3, 4\n",
        "  print(i)  # Prints the current value of 'i' in each iteration\n"
      ],
      "metadata": {
        "colab": {
          "base_uri": "https://localhost:8080/"
        },
        "id": "iMgo6GpI_tYS",
        "outputId": "8c0d3365-bfd0-48dc-f31d-f0db72c4a775"
      },
      "execution_count": 24,
      "outputs": [
        {
          "output_type": "stream",
          "name": "stdout",
          "text": [
            "0\n",
            "1\n",
            "2\n",
            "3\n",
            "4\n"
          ]
        }
      ]
    },
    {
      "cell_type": "markdown",
      "source": [
        "while loop"
      ],
      "metadata": {
        "id": "nGjGrE4mJ2Of"
      }
    },
    {
      "cell_type": "code",
      "source": [
        "# Initialize the variable 'number' with the value 5\n",
        "number = 5\n",
        "\n",
        "# Loop will run as long as 'number' is greater than or equal to 0\n",
        "while number >= 0:  # Checks if 'number' is greater than or equal to 0\n",
        "  print(number)  # Prints the current value of 'number'\n",
        "\n",
        "  # Decreases 'number' by 1 in each iteration\n",
        "  number = number - 1\n"
      ],
      "metadata": {
        "colab": {
          "base_uri": "https://localhost:8080/"
        },
        "id": "1dPbUbwLAsJ9",
        "outputId": "31e93dca-0400-4f4d-a32e-9d4d4a1b5596"
      },
      "execution_count": 25,
      "outputs": [
        {
          "output_type": "stream",
          "name": "stdout",
          "text": [
            "5\n",
            "4\n",
            "3\n",
            "2\n",
            "1\n",
            "0\n"
          ]
        }
      ]
    },
    {
      "cell_type": "markdown",
      "source": [
        "functions\n"
      ],
      "metadata": {
        "id": "WTMRxP3hJ3jI"
      }
    },
    {
      "cell_type": "code",
      "source": [
        "# Define a function named 'statement' that takes one parameter 'content'\n",
        "\n",
        "def statement(content):\n",
        "    # Print a message that includes the content passed to the function\n",
        "    print(\"Wishing you the best \", content)\n",
        "\n"
      ],
      "metadata": {
        "id": "1bRe0DsuJX5p"
      },
      "execution_count": 26,
      "outputs": []
    },
    {
      "cell_type": "code",
      "source": [
        "# Define a function 'sum' that takes two parameters 'a' and 'b'\n",
        "def sum(a, b):\n",
        "    # Return the sum of 'a' and 'b'\n",
        "    return a + b\n",
        "\n",
        "# Call the function with values 34 and 24, and store the result in 'ans'\n",
        "ans = sum(34, 24)\n",
        "\n",
        "# Print the result of the sum\n",
        "print('Sum is', ans)\n"
      ],
      "metadata": {
        "colab": {
          "base_uri": "https://localhost:8080/"
        },
        "id": "zm5iPYoCLNJw",
        "outputId": "4e3f8f7c-8aeb-452c-b324-1792b3e9ae61"
      },
      "execution_count": 27,
      "outputs": [
        {
          "output_type": "stream",
          "name": "stdout",
          "text": [
            "Sum is 58\n"
          ]
        }
      ]
    },
    {
      "cell_type": "markdown",
      "source": [
        "Modules\n"
      ],
      "metadata": {
        "id": "X3NnqaksW-tX"
      }
    },
    {
      "cell_type": "code",
      "source": [
        "# Import the math module to access mathematical functions\n",
        "import math\n",
        "\n",
        "# Print the square root of 23 using the sqrt function from the math module\n",
        "print(math.sqrt(23))\n"
      ],
      "metadata": {
        "colab": {
          "base_uri": "https://localhost:8080/"
        },
        "id": "b70c51VTW_tI",
        "outputId": "60cd3491-7a34-402b-f872-a2e09c3e5eb9"
      },
      "execution_count": null,
      "outputs": [
        {
          "output_type": "stream",
          "name": "stdout",
          "text": [
            "4.795831523312719\n"
          ]
        }
      ]
    },
    {
      "cell_type": "markdown",
      "source": [
        "Packages\n",
        "\n"
      ],
      "metadata": {
        "id": "fOQsYGdqXs9O"
      }
    },
    {
      "cell_type": "code",
      "source": [
        "!pip install pandas"
      ],
      "metadata": {
        "colab": {
          "base_uri": "https://localhost:8080/"
        },
        "id": "Aymu03OyXvFK",
        "outputId": "7261b291-d9df-4b0c-91a3-29747d45e00f"
      },
      "execution_count": null,
      "outputs": [
        {
          "output_type": "stream",
          "name": "stdout",
          "text": [
            "Requirement already satisfied: pandas in /usr/local/lib/python3.11/dist-packages (2.2.2)\n",
            "Requirement already satisfied: numpy>=1.23.2 in /usr/local/lib/python3.11/dist-packages (from pandas) (1.26.4)\n",
            "Requirement already satisfied: python-dateutil>=2.8.2 in /usr/local/lib/python3.11/dist-packages (from pandas) (2.8.2)\n",
            "Requirement already satisfied: pytz>=2020.1 in /usr/local/lib/python3.11/dist-packages (from pandas) (2025.1)\n",
            "Requirement already satisfied: tzdata>=2022.7 in /usr/local/lib/python3.11/dist-packages (from pandas) (2025.1)\n",
            "Requirement already satisfied: six>=1.5 in /usr/local/lib/python3.11/dist-packages (from python-dateutil>=2.8.2->pandas) (1.17.0)\n"
          ]
        }
      ]
    },
    {
      "cell_type": "code",
      "source": [
        "# Import the pandas library to work with DataFrames\n",
        "import pandas as pd\n",
        "\n",
        "# Define a dictionary with sample data for 'name' and 'Age'\n",
        "data = {'name': ['Jahnavi', 'Sailaja', 'Praneeth'], 'Age': [24, 26, 30]}\n",
        "\n",
        "# Create a DataFrame from the dictionary 'data'\n",
        "table = pd.DataFrame(data)\n",
        "\n",
        "# Print the DataFrame to display the table\n",
        "print(table)\n"
      ],
      "metadata": {
        "colab": {
          "base_uri": "https://localhost:8080/"
        },
        "id": "OdA3crQTXwqW",
        "outputId": "d875f5f7-5007-46dc-f39b-0ce9e80b10ce"
      },
      "execution_count": null,
      "outputs": [
        {
          "output_type": "stream",
          "name": "stdout",
          "text": [
            "       name  Age\n",
            "0   Jahnavi   24\n",
            "1   Sailaja   26\n",
            "2  Praneeth   30\n"
          ]
        }
      ]
    },
    {
      "cell_type": "markdown",
      "source": [
        "String Manipulation"
      ],
      "metadata": {
        "id": "hNU8F2nhYmsR"
      }
    },
    {
      "cell_type": "code",
      "source": [
        "# Define the initial text and name\n",
        "text = \"     You are a Champion\"\n",
        "name = \", Jahnavi!!\"\n",
        "\n",
        "# Replace ', Jahnavi!' with ', Sailaja!' in the 'name' string\n",
        "name = name.replace(', Jahnavi!', ', Sailaja!')\n",
        "\n",
        "# Concatenate 'text' and 'name' to form the 'message'\n",
        "message = text + name\n",
        "\n",
        "# Print the message after removing any leading/trailing spaces\n",
        "print(message.strip())\n",
        "\n",
        "# Find the position of the first occurrence of the letter 'a' in the message\n",
        "print(message.find('a'))\n",
        "\n",
        "# Convert the message to uppercase and remove any leading/trailing spaces, then print it\n",
        "print(message.upper().strip())\n",
        "\n",
        "# Split the message into a list of words and print the list\n",
        "print(message.split())\n"
      ],
      "metadata": {
        "colab": {
          "base_uri": "https://localhost:8080/"
        },
        "id": "9uSbXHFMYoRy",
        "outputId": "9acf6a21-6f51-4f9c-fd56-430a5a0d8018"
      },
      "execution_count": 28,
      "outputs": [
        {
          "output_type": "stream",
          "name": "stdout",
          "text": [
            "You are a Champion, Sailaja!!\n",
            "9\n",
            "YOU ARE A CHAMPION, SAILAJA!!\n",
            "['You', 'are', 'a', 'Champion,', 'Sailaja!!']\n"
          ]
        }
      ]
    },
    {
      "cell_type": "markdown",
      "source": [
        "Error Handling"
      ],
      "metadata": {
        "id": "chhvtijwa73l"
      }
    },
    {
      "cell_type": "code",
      "source": [
        "# Use a try block to attempt division\n",
        "try:\n",
        "    # Attempt to divide 10 by 0, which will cause an error\n",
        "    print(10 / 0)\n",
        "\n",
        "# Catch the exception and display a custom message\n",
        "except:\n",
        "    print(\"Oops! Check the numbers again. You can not divide a number with 0\")\n"
      ],
      "metadata": {
        "colab": {
          "base_uri": "https://localhost:8080/"
        },
        "id": "iKfujvHBa-kQ",
        "outputId": "11dcbdf6-3a25-4c95-daff-8fc8436313fe"
      },
      "execution_count": 29,
      "outputs": [
        {
          "output_type": "stream",
          "name": "stdout",
          "text": [
            "Oops! Check the numbers again. You can not divide a number with 0\n"
          ]
        }
      ]
    },
    {
      "cell_type": "code",
      "source": [
        "# Use a try block to attempt division\n",
        "try:\n",
        "    # Attempt to divide 10 by 3, which is a valid operation\n",
        "    print(10 / 3)\n",
        "\n",
        "# Catch any exceptions if they occur\n",
        "except:\n",
        "    print(\"Oops! Check the numbers again. You can not divide a number with 0\")\n",
        "\n",
        "# If no exceptions occurred, this block will execute\n",
        "else:\n",
        "    print(\"Good to go\")\n",
        "\n",
        "# This block will always execute, regardless of whether an exception occurred or not\n",
        "finally:\n",
        "    print(\"Keep learning\")\n"
      ],
      "metadata": {
        "colab": {
          "base_uri": "https://localhost:8080/"
        },
        "id": "WkOPCKOMbXxy",
        "outputId": "549f5e4d-d6bb-49f9-b267-4c78c7fb08ad"
      },
      "execution_count": null,
      "outputs": [
        {
          "output_type": "stream",
          "name": "stdout",
          "text": [
            "3.3333333333333335\n",
            "Good to go\n",
            "Keep learning\n"
          ]
        }
      ]
    },
    {
      "cell_type": "markdown",
      "source": [
        "Collections"
      ],
      "metadata": {
        "id": "Byoz0JdNIhWa"
      }
    },
    {
      "cell_type": "markdown",
      "source": [
        "Tuples"
      ],
      "metadata": {
        "id": "VhNGgE0PIjZ9"
      }
    },
    {
      "cell_type": "code",
      "source": [
        "# Define a tuple with mixed data types\n",
        "tuple1 = (1, 'Jahnavi', 'Data Engineer', 24)\n",
        "\n",
        "# Print the entire tuple\n",
        "print(tuple1)\n",
        "\n",
        "# Access and print the third element (index 2) of the tuple\n",
        "print(tuple1[2])\n",
        "\n",
        "# Print the length of the tuple\n",
        "print(len(tuple1))\n",
        "\n",
        "# Access and print the element at index -3 (third from the beginning)\n",
        "print(tuple1[-3])\n",
        "\n",
        "# Convert the tuple to a list to modify it\n",
        "new_tuple = list(tuple1)\n",
        "\n",
        "# Change the value at index 2 to 'Azure Data Engineer'\n",
        "new_tuple[2] = 'Azure Data Engineer'\n",
        "\n",
        "# Convert the list back to a tuple\n",
        "tuple1 = tuple(new_tuple)\n",
        "\n",
        "# Print the modified tuple\n",
        "print(tuple1)\n",
        "\n",
        "# Loop through the tuple and print each element\n",
        "for i in tuple1:\n",
        "    print(i)\n",
        "\n",
        "# Find and print the index of 'Jahnavi' in the tuple\n",
        "print(tuple1.index('Jahnavi'))\n"
      ],
      "metadata": {
        "colab": {
          "base_uri": "https://localhost:8080/"
        },
        "id": "mQsF3agiIkSL",
        "outputId": "92763e21-ddc0-4e17-eb95-da5c002428a9"
      },
      "execution_count": 30,
      "outputs": [
        {
          "output_type": "stream",
          "name": "stdout",
          "text": [
            "(1, 'Jahnavi', 'Data Engineer', 24)\n",
            "Data Engineer\n",
            "4\n",
            "Jahnavi\n",
            "(1, 'Jahnavi', 'Azure Data Engineer', 24)\n",
            "1\n",
            "Jahnavi\n",
            "Azure Data Engineer\n",
            "24\n",
            "1\n"
          ]
        }
      ]
    },
    {
      "cell_type": "markdown",
      "source": [
        "Lists"
      ],
      "metadata": {
        "id": "2et8vbH_TTna"
      }
    },
    {
      "cell_type": "code",
      "source": [
        "tasks = [1, 'Cleaning', 23, 'Painting', 'Cooking', 'Shopping']  # Define a list of tasks with mixed data types\n",
        "print(tasks)\n",
        "\n",
        "print(tasks[3])  # Access and print the element at index 3 ('Painting')\n",
        "\n",
        "tasks[3] = 'Coding'  # Change the value at index 3 from 'Painting' to 'Coding'\n",
        "print(tasks)\n",
        "\n",
        "tasks.append('Yoga')  # Append 'Yoga' to the end of the list\n",
        "print(tasks)\n",
        "\n",
        "tasks.insert(4, 25)  # Insert 25 at index 4, shifting other elements to the right\n",
        "print(tasks)\n",
        "\n",
        "tasks.remove(1)  # Remove the first occurrence of 1 from the list\n",
        "print(tasks)\n",
        "\n",
        "tasks.pop(6)  # Remove the element at index 6 (which is 'Yoga' after previous operations)\n",
        "print(tasks)\n",
        "\n",
        "for i in tasks:  # Loop through the list and print each element\n",
        "    print(i)\n"
      ],
      "metadata": {
        "colab": {
          "base_uri": "https://localhost:8080/"
        },
        "id": "oepLzHUlTVhA",
        "outputId": "d8df37c8-4b86-48aa-9283-24c665cd3a07"
      },
      "execution_count": 43,
      "outputs": [
        {
          "output_type": "stream",
          "name": "stdout",
          "text": [
            "[1, 'Cleaning', 23, 'Painting', 'Cooking', 'Shopping']\n",
            "Painting\n",
            "[1, 'Cleaning', 23, 'Coding', 'Cooking', 'Shopping']\n",
            "[1, 'Cleaning', 23, 'Coding', 'Cooking', 'Shopping', 'Yoga']\n",
            "[1, 'Cleaning', 23, 'Coding', 25, 'Cooking', 'Shopping', 'Yoga']\n",
            "['Cleaning', 23, 'Coding', 25, 'Cooking', 'Shopping', 'Yoga']\n",
            "['Cleaning', 23, 'Coding', 25, 'Cooking', 'Shopping']\n",
            "Cleaning\n",
            "23\n",
            "Coding\n",
            "25\n",
            "Cooking\n",
            "Shopping\n"
          ]
        }
      ]
    }
  ]
}
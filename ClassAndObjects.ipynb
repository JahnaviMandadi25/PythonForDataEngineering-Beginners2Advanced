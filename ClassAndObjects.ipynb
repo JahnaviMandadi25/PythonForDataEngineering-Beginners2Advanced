{
  "nbformat": 4,
  "nbformat_minor": 0,
  "metadata": {
    "colab": {
      "provenance": [],
      "authorship_tag": "ABX9TyPJvSmt4W1427EHS6aS9DQy",
      "include_colab_link": true
    },
    "kernelspec": {
      "name": "python3",
      "display_name": "Python 3"
    },
    "language_info": {
      "name": "python"
    }
  },
  "cells": [
    {
      "cell_type": "markdown",
      "metadata": {
        "id": "view-in-github",
        "colab_type": "text"
      },
      "source": [
        "<a href=\"https://colab.research.google.com/github/JahnaviMandadi25/PythonForDataEngineering-Beginners2Advanced/blob/main/ClassAndObjects.ipynb\" target=\"_parent\"><img src=\"https://colab.research.google.com/assets/colab-badge.svg\" alt=\"Open In Colab\"/></a>"
      ]
    },
    {
      "cell_type": "code",
      "execution_count": 6,
      "metadata": {
        "colab": {
          "base_uri": "https://localhost:8080/"
        },
        "id": "A9IDpEZlfz9v",
        "outputId": "9de21f32-f3fd-4d6e-d3e3-bc0a6f31d86d"
      },
      "outputs": [
        {
          "output_type": "stream",
          "name": "stdout",
          "text": [
            "John Doe is a Manager earning $75000 annually.\n",
            "Jane Smith is a Developer earning $60000 annually.\n",
            "John Doe is a Manager earning $75000 annually.\n"
          ]
        }
      ],
      "source": [
        "class Employee:  # Defining the Employee class\n",
        "    def __init__(self, name, position, salary):  # Initializing the class with name, position, and salary attributes\n",
        "        self.name = name  # Setting the name attribute\n",
        "        self.position = position  # Setting the position attribute\n",
        "        self.salary = salary  # Setting the salary attribute\n",
        "\n",
        "    def display_info(self):  # Method to display the employee's information\n",
        "        return f\"{self.name} is a {self.position} earning ${self.salary} annually.\"  # Returning a formatted string with employee info\n",
        "\n",
        "employee1 = Employee(\"John Doe\", \"Manager\", 75000)  # Creating an instance of the Employee class for John Doe\n",
        "employee2 = Employee(\"Jane Smith\", \"Developer\", 60000)  # Creating an instance of the Employee class for Jane Smith\n",
        "\n",
        "print(employee1.display_info())  # Printing the information for employee1\n",
        "print(employee2.display_info())  # Printing the information for employee2\n",
        "print(employee1.display_info())  # Printing the information for employee1 again\n"
      ]
    },
    {
      "cell_type": "markdown",
      "source": [],
      "metadata": {
        "id": "CVORyAUagZPd"
      }
    }
  ]
}